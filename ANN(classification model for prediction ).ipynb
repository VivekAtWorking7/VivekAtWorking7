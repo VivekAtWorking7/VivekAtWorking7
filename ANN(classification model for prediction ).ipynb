{
  "nbformat": 4,
  "nbformat_minor": 0,
  "metadata": {
    "colab": {
      "name": "ANN.ipynb",
      "provenance": [],
      "collapsed_sections": [],
      "mount_file_id": "1PmdYnu4LSIANBHpcDDs5k13dIuS7Swh8",
      "authorship_tag": "ABX9TyPrOlKRV+3nW9diLYD0eAeb",
      "include_colab_link": true
    },
    "kernelspec": {
      "name": "python3",
      "display_name": "Python 3"
    },
    "language_info": {
      "name": "python"
    },
    "accelerator": "TPU"
  },
  "cells": [
    {
      "cell_type": "markdown",
      "metadata": {
        "id": "view-in-github",
        "colab_type": "text"
      },
      "source": [
        "<a href=\"https://colab.research.google.com/github/VivekAtWorking7/VivekAtWorking7/blob/main/ANN(classification%20model%20for%20prediction%20).ipynb\" target=\"_parent\"><img src=\"https://colab.research.google.com/assets/colab-badge.svg\" alt=\"Open In Colab\"/></a>"
      ]
    },
    {
      "cell_type": "code",
      "metadata": {
        "id": "ZQ-xPLJLaR2U"
      },
      "source": [
        "!pip install tensorflow-gpu"
      ],
      "execution_count": null,
      "outputs": []
    },
    {
      "cell_type": "code",
      "metadata": {
        "id": "GHyNDQI7a0km",
        "colab": {
          "base_uri": "https://localhost:8080/"
        },
        "outputId": "4a8c7cde-23a4-4bf7-fc28-cda71bc23b84"
      },
      "source": [
        "!nvidia-smi"
      ],
      "execution_count": 1,
      "outputs": [
        {
          "output_type": "stream",
          "name": "stdout",
          "text": [
            "NVIDIA-SMI has failed because it couldn't communicate with the NVIDIA driver. Make sure that the latest NVIDIA driver is installed and running.\n",
            "\n"
          ]
        }
      ]
    },
    {
      "cell_type": "code",
      "metadata": {
        "id": "KoGU3VrSbgEW"
      },
      "source": [
        "# Artificial Neural Network\n",
        "\n",
        "\n",
        "# Part 1 - Data Preprocessing\n",
        "\n",
        "# Importing the libraries\n",
        "import numpy as np\n",
        "import matplotlib.pyplot as plt\n",
        "import pandas as pd\n"
      ],
      "execution_count": null,
      "outputs": []
    },
    {
      "cell_type": "code",
      "metadata": {
        "id": "GIx7uuQvciYk"
      },
      "source": [
        "df = pd.read_csv('/content/drive/MyDrive/Churn_Modelling.csv')\n",
        "df.head()\n",
        "X = df.drop(\"Exited\" , axis=1)\n",
        "y = df.drop(X , axis=1)"
      ],
      "execution_count": null,
      "outputs": []
    },
    {
      "cell_type": "code",
      "metadata": {
        "id": "oQHG2-_lcifD"
      },
      "source": [
        "#Create dummy variables\n",
        "\n",
        "Geography\t= pd.get_dummies(X[\"Geography\"] , sparse=False , drop_first=True)\n",
        "Gender = pd.get_dummies(X['Gender'] , sparse=False , drop_first=True)\n",
        "\n"
      ],
      "execution_count": null,
      "outputs": []
    },
    {
      "cell_type": "code",
      "metadata": {
        "id": "vqWF4BVjfRgA"
      },
      "source": [
        "## Concatenate the Data Frames\n",
        "X = pd.concat([X ,Geography , Gender] , axis=1)\n",
        "X = X.drop([\"RowNumber\" ,\"CustomerId\",\t\"Surname\" ,\"Geography\" ,\"Gender\"] , axis=1)\n"
      ],
      "execution_count": null,
      "outputs": []
    },
    {
      "cell_type": "code",
      "metadata": {
        "id": "RPrIpenIg5Ud"
      },
      "source": [
        "## spliting the data \n",
        "\n",
        "from sklearn.model_selection import train_test_split\n",
        "\n",
        "X_train, X_test, y_train, y_test = train_test_split(X, y, test_size = 0.2, random_state = 0)\n"
      ],
      "execution_count": null,
      "outputs": []
    },
    {
      "cell_type": "code",
      "metadata": {
        "id": "54wYlJb2hVJg"
      },
      "source": [
        "## feature scaling \n",
        "from sklearn.preprocessing import RobustScaler\n",
        "scaler = RobustScaler()\n",
        "X_train = pd.DataFrame(scaler.fit_transform(X_train))\n",
        "X_test = pd.DataFrame(scaler.transform(X_test))"
      ],
      "execution_count": null,
      "outputs": []
    },
    {
      "cell_type": "code",
      "metadata": {
        "id": "JlgTMlSjiVF1"
      },
      "source": [
        "# Part 2 - Now let's make the ANN!\n",
        "\n",
        "# Importing the Keras libraries and packages\n",
        "import keras\n",
        "from keras.models import Sequential\n",
        "from keras.layers import Dense\n",
        "from keras.layers import LeakyReLU,PReLU,ELU\n",
        "from keras.layers import Dropout\n"
      ],
      "execution_count": null,
      "outputs": []
    },
    {
      "cell_type": "code",
      "metadata": {
        "id": "MdxoCqsii2sO"
      },
      "source": [
        "# kernel_kernel_initializerializerialising the ANN\n",
        "classifier = Sequential()"
      ],
      "execution_count": null,
      "outputs": []
    },
    {
      "cell_type": "code",
      "metadata": {
        "id": "prsJME-IjDEE"
      },
      "source": [
        "# Adding the input layer and the first hidden layer\n",
        "classifier.add(Dense(units = 6, kernel_initializer = 'he_uniform',activation='relu',input_dim = 11))"
      ],
      "execution_count": null,
      "outputs": []
    },
    {
      "cell_type": "code",
      "metadata": {
        "id": "w-KHc8CLjo6q"
      },
      "source": [
        "# Adding the second hidden layer\n",
        "classifier.add(Dense(units=6 ,kernel_initializer= 'he_uniform' ,activation='relu'))"
      ],
      "execution_count": null,
      "outputs": []
    },
    {
      "cell_type": "code",
      "metadata": {
        "id": "OQEiHQy4kQYL"
      },
      "source": [
        "# Adding the output layer\n",
        "classifier.add(Dense(units=1 , kernel_initializer= 'glorot_uniform' , activation = 'sigmoid'))"
      ],
      "execution_count": null,
      "outputs": []
    },
    {
      "cell_type": "code",
      "metadata": {
        "id": "5AvAfaU9k6pS"
      },
      "source": [
        "# Compiling the ANN\n",
        "classifier.compile(optimizer= 'adam', loss = 'binary_crossentropy', metrics = ['accuracy'])"
      ],
      "execution_count": null,
      "outputs": []
    },
    {
      "cell_type": "code",
      "metadata": {
        "colab": {
          "base_uri": "https://localhost:8080/"
        },
        "id": "Xj0nmJ8ClIQ9",
        "outputId": "c70cb3cb-c959-49e8-a851-1ac14cf906ea"
      },
      "source": [
        "# Fitting the ANN to the Training set\n",
        "model_history=classifier.fit(X_train, y_train ,validation_split=0.33, batch_size = 10, epochs=100)"
      ],
      "execution_count": null,
      "outputs": [
        {
          "output_type": "stream",
          "name": "stdout",
          "text": [
            "Epoch 1/100\n",
            "536/536 [==============================] - 3s 5ms/step - loss: 0.5137 - accuracy: 0.8000 - val_loss: 0.4765 - val_accuracy: 0.8088\n",
            "Epoch 2/100\n",
            "536/536 [==============================] - 2s 4ms/step - loss: 0.4587 - accuracy: 0.8127 - val_loss: 0.4469 - val_accuracy: 0.8152\n",
            "Epoch 3/100\n",
            "536/536 [==============================] - 2s 4ms/step - loss: 0.4342 - accuracy: 0.8207 - val_loss: 0.4315 - val_accuracy: 0.8175\n",
            "Epoch 4/100\n",
            "536/536 [==============================] - 2s 4ms/step - loss: 0.4208 - accuracy: 0.8261 - val_loss: 0.4214 - val_accuracy: 0.8213\n",
            "Epoch 5/100\n",
            "536/536 [==============================] - 2s 4ms/step - loss: 0.4124 - accuracy: 0.8291 - val_loss: 0.4147 - val_accuracy: 0.8243\n",
            "Epoch 6/100\n",
            "536/536 [==============================] - 2s 4ms/step - loss: 0.4064 - accuracy: 0.8294 - val_loss: 0.4100 - val_accuracy: 0.8232\n",
            "Epoch 7/100\n",
            "536/536 [==============================] - 2s 4ms/step - loss: 0.4017 - accuracy: 0.8317 - val_loss: 0.4055 - val_accuracy: 0.8247\n",
            "Epoch 8/100\n",
            "536/536 [==============================] - 2s 4ms/step - loss: 0.3952 - accuracy: 0.8317 - val_loss: 0.3985 - val_accuracy: 0.8247\n",
            "Epoch 9/100\n",
            "536/536 [==============================] - 2s 4ms/step - loss: 0.3865 - accuracy: 0.8347 - val_loss: 0.3900 - val_accuracy: 0.8323\n",
            "Epoch 10/100\n",
            "536/536 [==============================] - 2s 4ms/step - loss: 0.3752 - accuracy: 0.8425 - val_loss: 0.3867 - val_accuracy: 0.8383\n",
            "Epoch 11/100\n",
            "536/536 [==============================] - 2s 4ms/step - loss: 0.3681 - accuracy: 0.8457 - val_loss: 0.3766 - val_accuracy: 0.8406\n",
            "Epoch 12/100\n",
            "536/536 [==============================] - 2s 4ms/step - loss: 0.3634 - accuracy: 0.8522 - val_loss: 0.3728 - val_accuracy: 0.8421\n",
            "Epoch 13/100\n",
            "536/536 [==============================] - 2s 4ms/step - loss: 0.3592 - accuracy: 0.8541 - val_loss: 0.3696 - val_accuracy: 0.8497\n",
            "Epoch 14/100\n",
            "536/536 [==============================] - 2s 4ms/step - loss: 0.3560 - accuracy: 0.8563 - val_loss: 0.3657 - val_accuracy: 0.8478\n",
            "Epoch 15/100\n",
            "536/536 [==============================] - 2s 4ms/step - loss: 0.3533 - accuracy: 0.8567 - val_loss: 0.3640 - val_accuracy: 0.8542\n",
            "Epoch 16/100\n",
            "536/536 [==============================] - 2s 4ms/step - loss: 0.3502 - accuracy: 0.8600 - val_loss: 0.3628 - val_accuracy: 0.8527\n",
            "Epoch 17/100\n",
            "536/536 [==============================] - 2s 4ms/step - loss: 0.3484 - accuracy: 0.8580 - val_loss: 0.3610 - val_accuracy: 0.8535\n",
            "Epoch 18/100\n",
            "536/536 [==============================] - 2s 4ms/step - loss: 0.3463 - accuracy: 0.8595 - val_loss: 0.3596 - val_accuracy: 0.8546\n",
            "Epoch 19/100\n",
            "536/536 [==============================] - 2s 4ms/step - loss: 0.3449 - accuracy: 0.8599 - val_loss: 0.3584 - val_accuracy: 0.8554\n",
            "Epoch 20/100\n",
            "536/536 [==============================] - 2s 4ms/step - loss: 0.3433 - accuracy: 0.8602 - val_loss: 0.3562 - val_accuracy: 0.8554\n",
            "Epoch 21/100\n",
            "536/536 [==============================] - 2s 4ms/step - loss: 0.3420 - accuracy: 0.8600 - val_loss: 0.3562 - val_accuracy: 0.8542\n",
            "Epoch 22/100\n",
            "536/536 [==============================] - 2s 4ms/step - loss: 0.3405 - accuracy: 0.8606 - val_loss: 0.3556 - val_accuracy: 0.8576\n",
            "Epoch 23/100\n",
            "536/536 [==============================] - 2s 4ms/step - loss: 0.3400 - accuracy: 0.8621 - val_loss: 0.3548 - val_accuracy: 0.8561\n",
            "Epoch 24/100\n",
            "536/536 [==============================] - 2s 4ms/step - loss: 0.3389 - accuracy: 0.8608 - val_loss: 0.3551 - val_accuracy: 0.8557\n",
            "Epoch 25/100\n",
            "536/536 [==============================] - 2s 4ms/step - loss: 0.3385 - accuracy: 0.8621 - val_loss: 0.3544 - val_accuracy: 0.8569\n",
            "Epoch 26/100\n",
            "536/536 [==============================] - 2s 4ms/step - loss: 0.3380 - accuracy: 0.8617 - val_loss: 0.3552 - val_accuracy: 0.8561\n",
            "Epoch 27/100\n",
            "536/536 [==============================] - 2s 4ms/step - loss: 0.3372 - accuracy: 0.8586 - val_loss: 0.3562 - val_accuracy: 0.8550\n",
            "Epoch 28/100\n",
            "536/536 [==============================] - 2s 4ms/step - loss: 0.3364 - accuracy: 0.8638 - val_loss: 0.3565 - val_accuracy: 0.8569\n",
            "Epoch 29/100\n",
            "536/536 [==============================] - 2s 4ms/step - loss: 0.3364 - accuracy: 0.8623 - val_loss: 0.3546 - val_accuracy: 0.8591\n",
            "Epoch 30/100\n",
            "536/536 [==============================] - 2s 4ms/step - loss: 0.3358 - accuracy: 0.8630 - val_loss: 0.3548 - val_accuracy: 0.8542\n",
            "Epoch 31/100\n",
            "536/536 [==============================] - 2s 4ms/step - loss: 0.3358 - accuracy: 0.8628 - val_loss: 0.3538 - val_accuracy: 0.8588\n",
            "Epoch 32/100\n",
            "536/536 [==============================] - 2s 4ms/step - loss: 0.3355 - accuracy: 0.8623 - val_loss: 0.3541 - val_accuracy: 0.8546\n",
            "Epoch 33/100\n",
            "536/536 [==============================] - 2s 4ms/step - loss: 0.3351 - accuracy: 0.8612 - val_loss: 0.3556 - val_accuracy: 0.8550\n",
            "Epoch 34/100\n",
            "536/536 [==============================] - 2s 4ms/step - loss: 0.3354 - accuracy: 0.8612 - val_loss: 0.3538 - val_accuracy: 0.8554\n",
            "Epoch 35/100\n",
            "536/536 [==============================] - 2s 4ms/step - loss: 0.3344 - accuracy: 0.8630 - val_loss: 0.3537 - val_accuracy: 0.8546\n",
            "Epoch 36/100\n",
            "536/536 [==============================] - 2s 4ms/step - loss: 0.3344 - accuracy: 0.8623 - val_loss: 0.3538 - val_accuracy: 0.8584\n",
            "Epoch 37/100\n",
            "536/536 [==============================] - 2s 4ms/step - loss: 0.3342 - accuracy: 0.8617 - val_loss: 0.3537 - val_accuracy: 0.8565\n",
            "Epoch 38/100\n",
            "536/536 [==============================] - 2s 4ms/step - loss: 0.3338 - accuracy: 0.8632 - val_loss: 0.3527 - val_accuracy: 0.8595\n",
            "Epoch 39/100\n",
            "536/536 [==============================] - 2s 4ms/step - loss: 0.3331 - accuracy: 0.8628 - val_loss: 0.3534 - val_accuracy: 0.8588\n",
            "Epoch 40/100\n",
            "536/536 [==============================] - 2s 4ms/step - loss: 0.3339 - accuracy: 0.8632 - val_loss: 0.3534 - val_accuracy: 0.8584\n",
            "Epoch 41/100\n",
            "536/536 [==============================] - 2s 4ms/step - loss: 0.3335 - accuracy: 0.8642 - val_loss: 0.3539 - val_accuracy: 0.8599\n",
            "Epoch 42/100\n",
            "536/536 [==============================] - 2s 4ms/step - loss: 0.3320 - accuracy: 0.8619 - val_loss: 0.3525 - val_accuracy: 0.8595\n",
            "Epoch 43/100\n",
            "536/536 [==============================] - 2s 4ms/step - loss: 0.3331 - accuracy: 0.8621 - val_loss: 0.3528 - val_accuracy: 0.8607\n",
            "Epoch 44/100\n",
            "536/536 [==============================] - 2s 4ms/step - loss: 0.3324 - accuracy: 0.8628 - val_loss: 0.3526 - val_accuracy: 0.8573\n",
            "Epoch 45/100\n",
            "536/536 [==============================] - 2s 4ms/step - loss: 0.3323 - accuracy: 0.8666 - val_loss: 0.3521 - val_accuracy: 0.8580\n",
            "Epoch 46/100\n",
            "536/536 [==============================] - 2s 4ms/step - loss: 0.3322 - accuracy: 0.8645 - val_loss: 0.3531 - val_accuracy: 0.8580\n",
            "Epoch 47/100\n",
            "536/536 [==============================] - 2s 4ms/step - loss: 0.3317 - accuracy: 0.8617 - val_loss: 0.3522 - val_accuracy: 0.8591\n",
            "Epoch 48/100\n",
            "536/536 [==============================] - 2s 4ms/step - loss: 0.3317 - accuracy: 0.8649 - val_loss: 0.3516 - val_accuracy: 0.8580\n",
            "Epoch 49/100\n",
            "536/536 [==============================] - 2s 4ms/step - loss: 0.3317 - accuracy: 0.8638 - val_loss: 0.3521 - val_accuracy: 0.8591\n",
            "Epoch 50/100\n",
            "536/536 [==============================] - 2s 4ms/step - loss: 0.3314 - accuracy: 0.8642 - val_loss: 0.3527 - val_accuracy: 0.8595\n",
            "Epoch 51/100\n",
            "536/536 [==============================] - 2s 4ms/step - loss: 0.3316 - accuracy: 0.8638 - val_loss: 0.3521 - val_accuracy: 0.8595\n",
            "Epoch 52/100\n",
            "536/536 [==============================] - 2s 4ms/step - loss: 0.3310 - accuracy: 0.8647 - val_loss: 0.3532 - val_accuracy: 0.8584\n",
            "Epoch 53/100\n",
            "536/536 [==============================] - 2s 4ms/step - loss: 0.3314 - accuracy: 0.8640 - val_loss: 0.3517 - val_accuracy: 0.8610\n",
            "Epoch 54/100\n",
            "536/536 [==============================] - 2s 4ms/step - loss: 0.3312 - accuracy: 0.8634 - val_loss: 0.3528 - val_accuracy: 0.8603\n",
            "Epoch 55/100\n",
            "536/536 [==============================] - 2s 4ms/step - loss: 0.3312 - accuracy: 0.8630 - val_loss: 0.3518 - val_accuracy: 0.8584\n",
            "Epoch 56/100\n",
            "536/536 [==============================] - 2s 4ms/step - loss: 0.3302 - accuracy: 0.8640 - val_loss: 0.3554 - val_accuracy: 0.8588\n",
            "Epoch 57/100\n",
            "536/536 [==============================] - 2s 4ms/step - loss: 0.3303 - accuracy: 0.8658 - val_loss: 0.3523 - val_accuracy: 0.8610\n",
            "Epoch 58/100\n",
            "536/536 [==============================] - 2s 4ms/step - loss: 0.3302 - accuracy: 0.8642 - val_loss: 0.3543 - val_accuracy: 0.8614\n",
            "Epoch 59/100\n",
            "536/536 [==============================] - 2s 4ms/step - loss: 0.3306 - accuracy: 0.8632 - val_loss: 0.3519 - val_accuracy: 0.8599\n",
            "Epoch 60/100\n",
            "536/536 [==============================] - 2s 4ms/step - loss: 0.3306 - accuracy: 0.8636 - val_loss: 0.3526 - val_accuracy: 0.8588\n",
            "Epoch 61/100\n",
            "536/536 [==============================] - 2s 4ms/step - loss: 0.3297 - accuracy: 0.8647 - val_loss: 0.3538 - val_accuracy: 0.8576\n",
            "Epoch 62/100\n",
            "536/536 [==============================] - 2s 4ms/step - loss: 0.3297 - accuracy: 0.8636 - val_loss: 0.3531 - val_accuracy: 0.8569\n",
            "Epoch 63/100\n",
            "536/536 [==============================] - 2s 4ms/step - loss: 0.3304 - accuracy: 0.8647 - val_loss: 0.3531 - val_accuracy: 0.8588\n",
            "Epoch 64/100\n",
            "536/536 [==============================] - 2s 4ms/step - loss: 0.3294 - accuracy: 0.8640 - val_loss: 0.3535 - val_accuracy: 0.8599\n",
            "Epoch 65/100\n",
            "536/536 [==============================] - 2s 4ms/step - loss: 0.3292 - accuracy: 0.8630 - val_loss: 0.3541 - val_accuracy: 0.8580\n",
            "Epoch 66/100\n",
            "536/536 [==============================] - 2s 4ms/step - loss: 0.3279 - accuracy: 0.8640 - val_loss: 0.3526 - val_accuracy: 0.8584\n",
            "Epoch 67/100\n",
            "536/536 [==============================] - 2s 4ms/step - loss: 0.3295 - accuracy: 0.8642 - val_loss: 0.3538 - val_accuracy: 0.8610\n",
            "Epoch 68/100\n",
            "536/536 [==============================] - 2s 4ms/step - loss: 0.3288 - accuracy: 0.8612 - val_loss: 0.3525 - val_accuracy: 0.8573\n",
            "Epoch 69/100\n",
            "536/536 [==============================] - 2s 4ms/step - loss: 0.3285 - accuracy: 0.8630 - val_loss: 0.3532 - val_accuracy: 0.8607\n",
            "Epoch 70/100\n",
            "536/536 [==============================] - 2s 4ms/step - loss: 0.3281 - accuracy: 0.8636 - val_loss: 0.3546 - val_accuracy: 0.8610\n",
            "Epoch 71/100\n",
            "536/536 [==============================] - 2s 4ms/step - loss: 0.3289 - accuracy: 0.8628 - val_loss: 0.3533 - val_accuracy: 0.8595\n",
            "Epoch 72/100\n",
            "536/536 [==============================] - 2s 4ms/step - loss: 0.3284 - accuracy: 0.8640 - val_loss: 0.3535 - val_accuracy: 0.8580\n",
            "Epoch 73/100\n",
            "536/536 [==============================] - 2s 4ms/step - loss: 0.3283 - accuracy: 0.8634 - val_loss: 0.3537 - val_accuracy: 0.8576\n",
            "Epoch 74/100\n",
            "536/536 [==============================] - 2s 4ms/step - loss: 0.3277 - accuracy: 0.8640 - val_loss: 0.3538 - val_accuracy: 0.8599\n",
            "Epoch 75/100\n",
            "536/536 [==============================] - 2s 4ms/step - loss: 0.3269 - accuracy: 0.8628 - val_loss: 0.3565 - val_accuracy: 0.8591\n",
            "Epoch 76/100\n",
            "536/536 [==============================] - 2s 4ms/step - loss: 0.3291 - accuracy: 0.8647 - val_loss: 0.3535 - val_accuracy: 0.8569\n",
            "Epoch 77/100\n",
            "536/536 [==============================] - 2s 4ms/step - loss: 0.3285 - accuracy: 0.8651 - val_loss: 0.3543 - val_accuracy: 0.8607\n",
            "Epoch 78/100\n",
            "536/536 [==============================] - 2s 4ms/step - loss: 0.3279 - accuracy: 0.8658 - val_loss: 0.3542 - val_accuracy: 0.8580\n",
            "Epoch 79/100\n",
            "536/536 [==============================] - 2s 4ms/step - loss: 0.3274 - accuracy: 0.8647 - val_loss: 0.3548 - val_accuracy: 0.8554\n",
            "Epoch 80/100\n",
            "536/536 [==============================] - 2s 4ms/step - loss: 0.3277 - accuracy: 0.8636 - val_loss: 0.3549 - val_accuracy: 0.8599\n",
            "Epoch 81/100\n",
            "536/536 [==============================] - 2s 4ms/step - loss: 0.3275 - accuracy: 0.8658 - val_loss: 0.3539 - val_accuracy: 0.8584\n",
            "Epoch 82/100\n",
            "536/536 [==============================] - 2s 4ms/step - loss: 0.3274 - accuracy: 0.8666 - val_loss: 0.3543 - val_accuracy: 0.8591\n",
            "Epoch 83/100\n",
            "536/536 [==============================] - 2s 4ms/step - loss: 0.3273 - accuracy: 0.8655 - val_loss: 0.3551 - val_accuracy: 0.8580\n",
            "Epoch 84/100\n",
            "536/536 [==============================] - 2s 4ms/step - loss: 0.3271 - accuracy: 0.8662 - val_loss: 0.3546 - val_accuracy: 0.8573\n",
            "Epoch 85/100\n",
            "536/536 [==============================] - 2s 4ms/step - loss: 0.3271 - accuracy: 0.8649 - val_loss: 0.3548 - val_accuracy: 0.8573\n",
            "Epoch 86/100\n",
            "536/536 [==============================] - 2s 4ms/step - loss: 0.3270 - accuracy: 0.8681 - val_loss: 0.3580 - val_accuracy: 0.8576\n",
            "Epoch 87/100\n",
            "536/536 [==============================] - 2s 4ms/step - loss: 0.3270 - accuracy: 0.8653 - val_loss: 0.3548 - val_accuracy: 0.8576\n",
            "Epoch 88/100\n",
            "536/536 [==============================] - 2s 4ms/step - loss: 0.3264 - accuracy: 0.8683 - val_loss: 0.3549 - val_accuracy: 0.8565\n",
            "Epoch 89/100\n",
            "536/536 [==============================] - 2s 4ms/step - loss: 0.3268 - accuracy: 0.8666 - val_loss: 0.3544 - val_accuracy: 0.8561\n",
            "Epoch 90/100\n",
            "536/536 [==============================] - 2s 4ms/step - loss: 0.3274 - accuracy: 0.8649 - val_loss: 0.3546 - val_accuracy: 0.8580\n",
            "Epoch 91/100\n",
            "536/536 [==============================] - 2s 4ms/step - loss: 0.3257 - accuracy: 0.8660 - val_loss: 0.3554 - val_accuracy: 0.8573\n",
            "Epoch 92/100\n",
            "536/536 [==============================] - 2s 4ms/step - loss: 0.3257 - accuracy: 0.8677 - val_loss: 0.3536 - val_accuracy: 0.8588\n",
            "Epoch 93/100\n",
            "536/536 [==============================] - 2s 4ms/step - loss: 0.3262 - accuracy: 0.8662 - val_loss: 0.3546 - val_accuracy: 0.8557\n",
            "Epoch 94/100\n",
            "536/536 [==============================] - 2s 4ms/step - loss: 0.3260 - accuracy: 0.8649 - val_loss: 0.3547 - val_accuracy: 0.8565\n",
            "Epoch 95/100\n",
            "536/536 [==============================] - 2s 4ms/step - loss: 0.3262 - accuracy: 0.8671 - val_loss: 0.3552 - val_accuracy: 0.8573\n",
            "Epoch 96/100\n",
            "536/536 [==============================] - 2s 4ms/step - loss: 0.3259 - accuracy: 0.8662 - val_loss: 0.3542 - val_accuracy: 0.8569\n",
            "Epoch 97/100\n",
            "536/536 [==============================] - 2s 4ms/step - loss: 0.3260 - accuracy: 0.8651 - val_loss: 0.3540 - val_accuracy: 0.8573\n",
            "Epoch 98/100\n",
            "536/536 [==============================] - 2s 4ms/step - loss: 0.3262 - accuracy: 0.8670 - val_loss: 0.3563 - val_accuracy: 0.8557\n",
            "Epoch 99/100\n",
            "536/536 [==============================] - 2s 4ms/step - loss: 0.3258 - accuracy: 0.8656 - val_loss: 0.3540 - val_accuracy: 0.8554\n",
            "Epoch 100/100\n",
            "536/536 [==============================] - 2s 4ms/step - loss: 0.3260 - accuracy: 0.8656 - val_loss: 0.3543 - val_accuracy: 0.8565\n"
          ]
        }
      ]
    },
    {
      "cell_type": "code",
      "metadata": {
        "colab": {
          "base_uri": "https://localhost:8080/"
        },
        "id": "RNGG6Fu0rSDv",
        "outputId": "99a4ccef-49be-4486-ce0e-cfd4f6f29870"
      },
      "source": [
        "classifier.summary()"
      ],
      "execution_count": null,
      "outputs": [
        {
          "output_type": "stream",
          "name": "stdout",
          "text": [
            "Model: \"sequential\"\n",
            "_________________________________________________________________\n",
            "Layer (type)                 Output Shape              Param #   \n",
            "=================================================================\n",
            "dense (Dense)                (None, 6)                 72        \n",
            "_________________________________________________________________\n",
            "dense_1 (Dense)              (None, 6)                 42        \n",
            "_________________________________________________________________\n",
            "dense_2 (Dense)              (None, 1)                 7         \n",
            "=================================================================\n",
            "Total params: 121\n",
            "Trainable params: 121\n",
            "Non-trainable params: 0\n",
            "_________________________________________________________________\n"
          ]
        }
      ]
    },
    {
      "cell_type": "code",
      "metadata": {
        "colab": {
          "base_uri": "https://localhost:8080/",
          "height": 246
        },
        "id": "q4kBIpRujbcU",
        "outputId": "31bad331-8e7b-4fee-ff2a-e3687f324e62"
      },
      "source": [
        "\n",
        "# list all data in history\n",
        "\n",
        "print(model_history.history.keys())\n",
        "# summarize history for accuracy\n",
        "plt.plot(model_history.history['acc'])\n",
        "plt.plot(model_history.history['val_acc'])\n",
        "plt.title('model accuracy')\n",
        "plt.ylabel('accuracy')\n",
        "plt.xlabel('epoch')\n",
        "plt.legend(['train', 'test'], loc='upper left')\n",
        "plt.show()\n"
      ],
      "execution_count": null,
      "outputs": [
        {
          "output_type": "stream",
          "name": "stdout",
          "text": [
            "dict_keys(['loss', 'accuracy', 'val_loss', 'val_accuracy'])\n"
          ]
        },
        {
          "output_type": "error",
          "ename": "KeyError",
          "evalue": "ignored",
          "traceback": [
            "\u001b[0;31m---------------------------------------------------------------------------\u001b[0m",
            "\u001b[0;31mKeyError\u001b[0m                                  Traceback (most recent call last)",
            "\u001b[0;32m<ipython-input-19-bddd2a3bb27f>\u001b[0m in \u001b[0;36m<module>\u001b[0;34m()\u001b[0m\n\u001b[1;32m      4\u001b[0m \u001b[0mprint\u001b[0m\u001b[0;34m(\u001b[0m\u001b[0mmodel_history\u001b[0m\u001b[0;34m.\u001b[0m\u001b[0mhistory\u001b[0m\u001b[0;34m.\u001b[0m\u001b[0mkeys\u001b[0m\u001b[0;34m(\u001b[0m\u001b[0;34m)\u001b[0m\u001b[0;34m)\u001b[0m\u001b[0;34m\u001b[0m\u001b[0;34m\u001b[0m\u001b[0m\n\u001b[1;32m      5\u001b[0m \u001b[0;31m# summarize history for accuracy\u001b[0m\u001b[0;34m\u001b[0m\u001b[0;34m\u001b[0m\u001b[0;34m\u001b[0m\u001b[0m\n\u001b[0;32m----> 6\u001b[0;31m \u001b[0mplt\u001b[0m\u001b[0;34m.\u001b[0m\u001b[0mplot\u001b[0m\u001b[0;34m(\u001b[0m\u001b[0mmodel_history\u001b[0m\u001b[0;34m.\u001b[0m\u001b[0mhistory\u001b[0m\u001b[0;34m[\u001b[0m\u001b[0;34m'acc'\u001b[0m\u001b[0;34m]\u001b[0m\u001b[0;34m)\u001b[0m\u001b[0;34m\u001b[0m\u001b[0;34m\u001b[0m\u001b[0m\n\u001b[0m\u001b[1;32m      7\u001b[0m \u001b[0mplt\u001b[0m\u001b[0;34m.\u001b[0m\u001b[0mplot\u001b[0m\u001b[0;34m(\u001b[0m\u001b[0mmodel_history\u001b[0m\u001b[0;34m.\u001b[0m\u001b[0mhistory\u001b[0m\u001b[0;34m[\u001b[0m\u001b[0;34m'val_acc'\u001b[0m\u001b[0;34m]\u001b[0m\u001b[0;34m)\u001b[0m\u001b[0;34m\u001b[0m\u001b[0;34m\u001b[0m\u001b[0m\n\u001b[1;32m      8\u001b[0m \u001b[0mplt\u001b[0m\u001b[0;34m.\u001b[0m\u001b[0mtitle\u001b[0m\u001b[0;34m(\u001b[0m\u001b[0;34m'model accuracy'\u001b[0m\u001b[0;34m)\u001b[0m\u001b[0;34m\u001b[0m\u001b[0;34m\u001b[0m\u001b[0m\n",
            "\u001b[0;31mKeyError\u001b[0m: 'acc'"
          ]
        }
      ]
    }
  ]
}